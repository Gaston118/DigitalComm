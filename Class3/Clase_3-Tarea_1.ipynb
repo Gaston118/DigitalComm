{
 "cells": [
  {
   "cell_type": "markdown",
   "id": "071d673e",
   "metadata": {},
   "source": [
    "# Análisis cuantitativo para la determinación del nivel de decisión: Regla de decisión de Máxima Verosimilitud.\n",
    "\n",
    "Para el caso de hipótesis $H$ equiprobables y observaciones $Y$ discretas (que es el caso de nuestro ejemplo), la regla de decisión de máxima verosimilitud (del inglés *Maximum Likelihood decision Rule* o ML) establece que la hipótesis transmitida más probable dada la observación $Y$ en un instante de tiempo dado es aquella que cumple con la siguiente relación:\n",
    "\n",
    "$$ \\hat{H}(y)=  \\underset{i\\in \\mathcal{H}}{\\operatorname{argmax}} P_{Y|H}(y|i) $$\n",
    "\n",
    "Para el caso de test de hipótesis binaria (que es el caso de nuestro ejemplo) la regla de decisión ML queda simplificada a la siguiente expresión:\n",
    "\n",
    "$$ P_{Y|H}(y|1)\\overset{\\hat{H}=1}{\\underset{\\hat{H}=0}{\\gtreqless}}P_{Y|H}(y|0) $$\n",
    "\n",
    "Dado que en este caso la variable aleatoria $Y$ sigue una distribución de Poisson con parámetros $\\lambda_0$ y $\\lambda_1$, tenemos que:\n",
    "\n",
    "$$ P_{Y|H}(y|i) = \\frac{\\lambda_i^y}{y!}e^{-\\lambda_i} $$\n",
    "\n",
    "Si reemplazamos en esta relación a $P_{Y|H}(y|1)$ por $\\frac{\\lambda_1^y}{y!}e^{-\\lambda_1}$ y a $P_{Y|H}(y|0)$ por $\\frac{\\lambda_0^y}{y!}e^{-\\lambda_0}$, se obtiene:\n",
    "\n",
    "$$ \\frac{\\lambda_1^y}{y!}e^{-\\lambda_1} \\overset{\\hat{H}=1}{\\underset{\\hat{H}=0}{\\gtreqless}} \\frac{\\lambda_0^y}{y!}e^{-\\lambda_0} $$\n",
    "\n",
    "Cancelando términos comunes:\n",
    "\n",
    "$$ \\lambda_1^y e^{-\\lambda_1} \\overset{\\hat{H}=1}{\\underset{\\hat{H}=0}{\\gtreqless}} \\lambda_0^y e^{-\\lambda_0} $$\n",
    "\n",
    "Tomando logaritmo natural en ambos lados:\n",
    "\n",
    "$$ y \\ln \\lambda_1 - \\lambda_1 \\overset{\\hat{H}=1}{\\underset{\\hat{H}=0}{\\gtreqless}} y \\ln \\lambda_0 - \\lambda_0 $$\n",
    "\n",
    "Reordenando términos:\n",
    "\n",
    "$$ y (\\ln \\lambda_1 - \\ln \\lambda_0) \\overset{\\hat{H}=1}{\\underset{\\hat{H}=0}{\\gtreqless}} \\lambda_1 - \\lambda_0 $$\n",
    "\n",
    "Finalmente, despejando $y$:\n",
    "\n",
    "$$ y \\overset{\\hat{H}=1}{\\underset{\\hat{H}=0}{\\gtreqless}} \\frac{\\lambda_1 - \\lambda_0}{\\ln \\lambda_1 - \\ln \\lambda_0} $$\n",
    "\n",
    "Si utilizamos los valores dados $\\lambda_1 = 3$ y $\\lambda_0 = 1$:\n",
    "\n",
    "$$ y \\overset{\\hat{H}=1}{\\underset{\\hat{H}=0}{\\gtreqless}} \\frac{3 - 1}{\\ln 3 - \\ln 1} = \\frac{2}{\\ln 3} \\approx 1.8 $$\n",
    "\n",
    "Esta expresión nos indica que, en teoría, el nivel de decisión del receptor debe estar ubicado en un valor igual a **1.8**. Este resultado es coherente con el obtenido en nuestro análisis cualitativo previo del problema.\n"
   ]
  },
  {
   "cell_type": "code",
   "execution_count": 1,
   "id": "88b742a5",
   "metadata": {},
   "outputs": [
    {
     "data": {
      "text/latex": [
       "$\\displaystyle 1.82047845325367$"
      ],
      "text/plain": [
       "1.82047845325367"
      ]
     },
     "execution_count": 1,
     "metadata": {},
     "output_type": "execute_result"
    }
   ],
   "source": [
    "import sympy as sp\n",
    "\n",
    "# Definimos las variables simbólicas\n",
    "y = sp.Symbol('y', real=True, positive=True)\n",
    "lambda_0 = 1  # Intensidad de la distribución Poisson bajo H0\n",
    "lambda_1 = 3  # Intensidad de la distribución Poisson bajo H1\n",
    "\n",
    "# Expresiones de probabilidad condicional para Poisson\n",
    "P_Y_H0 = (lambda_0**y / sp.factorial(y)) * sp.exp(-lambda_0)\n",
    "P_Y_H1 = (lambda_1**y / sp.factorial(y)) * sp.exp(-lambda_1)\n",
    "\n",
    "# Regla de decisión ML: comparar P_Y_H1 / P_Y_H0 con 1\n",
    "ratio = P_Y_H1 / P_Y_H0\n",
    "\n",
    "# Tomar logaritmo natural en ambos lados\n",
    "log_ratio = sp.simplify(sp.log(P_Y_H1) - sp.log(P_Y_H0))\n",
    "\n",
    "# Despejar y para encontrar el umbral de decisión\n",
    "y_threshold = sp.solve(log_ratio, y)\n",
    "\n",
    "# Evaluar el umbral con los valores dados\n",
    "threshold_value = (lambda_1 - lambda_0) / (sp.ln(lambda_1) - sp.ln(lambda_0))\n",
    "\n",
    "# Mostrar el resultado\n",
    "threshold_value.evalf()"
   ]
  }
 ],
 "metadata": {
  "kernelspec": {
   "display_name": "Python 3",
   "language": "python",
   "name": "python3"
  },
  "language_info": {
   "codemirror_mode": {
    "name": "ipython",
    "version": 3
   },
   "file_extension": ".py",
   "mimetype": "text/x-python",
   "name": "python",
   "nbconvert_exporter": "python",
   "pygments_lexer": "ipython3",
   "version": "3.12.2"
  }
 },
 "nbformat": 4,
 "nbformat_minor": 5
}
