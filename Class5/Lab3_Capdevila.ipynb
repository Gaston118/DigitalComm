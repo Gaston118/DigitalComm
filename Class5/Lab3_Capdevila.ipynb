{
 "cells": [
  {
   "cell_type": "code",
   "execution_count": null,
   "id": "5d19de45",
   "metadata": {},
   "outputs": [
    {
     "name": "stderr",
     "output_type": "stream",
     "text": [
      "\"pip\" no se reconoce como un comando interno o externo,\n",
      "programa o archivo por lotes ejecutable.\n",
      "\"pip\" no se reconoce como un comando interno o externo,\n",
      "programa o archivo por lotes ejecutable.\n",
      "\"pip\" no se reconoce como un comando interno o externo,\n",
      "programa o archivo por lotes ejecutable.\n",
      "\"pip\" no se reconoce como un comando interno o externo,\n",
      "programa o archivo por lotes ejecutable.\n",
      "\"pip\" no se reconoce como un comando interno o externo,\n",
      "programa o archivo por lotes ejecutable.\n"
     ]
    }
   ],
   "source": [
    "pip install pyadi-iio\n",
    "pip install matplotlib\n",
    "pip install scikit-dsp-comm\n",
    "pip install scikit-commpy\n",
    "pip install statsmodels"
   ]
  },
  {
   "cell_type": "code",
   "execution_count": null,
   "id": "e55ddb58",
   "metadata": {},
   "outputs": [],
   "source": [
    "import adi\n",
    "import numpy as np\n",
    "import matplotlib.pyplot as plt\n",
    "import statsmodels\n",
    "from statsmodels.graphics.gofplots import qqplot\n",
    "from scipy.fft import fft,fftfreq"
   ]
  },
  {
   "cell_type": "code",
   "execution_count": null,
   "id": "35dce543",
   "metadata": {},
   "outputs": [],
   "source": [
    "def plotSignal(signal):\n",
    "#------------------------------- Transmitted I component ------------------------------- \n",
    "# Plot time domain\n",
    "    plt.figure(figsize=(20,8), dpi= 80, facecolor='w', edgecolor='k')\n",
    "    plt.subplot(2,1,1)\n",
    "    plt.plot(np.real(signal))\n",
    "    plt.xlabel('n')\n",
    "    plt.ylabel('Amplitud')\n",
    "    plt.title('Componente en fase de la señal')\n",
    "    plt.grid()\n",
    "#------------------------------- Transmitted Q component -------------------------------\n",
    "# Plot time domain\n",
    "    plt.subplot(2,1,2)\n",
    "    plt.plot(np.imag(signal))\n",
    "    plt.xlabel('n')\n",
    "    plt.ylabel('Amplitud')\n",
    "    plt.title('Componente en cuadratura de la señal')\n",
    "    plt.grid()\n",
    "    plt.show()\n",
    "    \n",
    "def plotHistogramas(signal):\n",
    "    plt.figure(figsize=(12, 4))\n",
    "\n",
    "    # Histograma de I\n",
    "    plt.subplot(1, 2, 1)\n",
    "    plt.hist(np.real(signal), bins=50, color='skyblue', edgecolor='black')\n",
    "    plt.title('Histograma de componente I')\n",
    "    plt.xlabel('Amplitud')\n",
    "    plt.ylabel('Frecuencia')\n",
    "\n",
    "    # Histograma de Q\n",
    "    plt.subplot(1, 2, 2)\n",
    "    plt.hist(np.imag(signal), bins=50, color='orange', edgecolor='black')\n",
    "    plt.title('Histograma de componente Q')\n",
    "    plt.xlabel('Amplitud')\n",
    "    plt.ylabel('Frecuencia')\n",
    "\n",
    "    plt.tight_layout()\n",
    "    plt.show()\n",
    "\n",
    "def plotFrequency(signal):\n",
    "\n",
    "    transformada =fft(txSignal)\n",
    "    frecuencias = fftfreq(len(transformada))\n",
    "\n",
    "    plt.figure(figsize=(18, 6))\n",
    "    plt.plot(frecuencias, np.abs(transformada), color='b')\n",
    "    plt.xlabel('Frecuencia (Hz)')\n",
    "    plt.ylabel('Magnitud')\n",
    "    plt.title('Gráfica en Frecuencia de la Señal')\n",
    "    plt.grid()\n",
    "    plt.show()\n",
    "    \n",
    "def plotConstelaciones(signal):\n",
    "    plt.figure(figsize=(3,3))\n",
    "    plt.plot(np.real(signal[0:1000]),np.imag(signal[0:1000]),'b*')\n",
    "    plt.grid()\n",
    "    plt.show()"
   ]
  }
 ],
 "metadata": {
  "kernelspec": {
   "display_name": "Python 3",
   "language": "python",
   "name": "python3"
  },
  "language_info": {
   "codemirror_mode": {
    "name": "ipython",
    "version": 3
   },
   "file_extension": ".py",
   "mimetype": "text/x-python",
   "name": "python",
   "nbconvert_exporter": "python",
   "pygments_lexer": "ipython3",
   "version": "3.12.2"
  }
 },
 "nbformat": 4,
 "nbformat_minor": 5
}
