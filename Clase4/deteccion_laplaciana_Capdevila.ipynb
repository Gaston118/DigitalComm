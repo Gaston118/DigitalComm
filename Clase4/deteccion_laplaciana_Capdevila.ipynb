{
 "cells": [
  {
   "cell_type": "markdown",
   "id": "0f7e3d6a",
   "metadata": {},
   "source": [
    "### 🔎 Problema de detección binaria con regla MAP\n",
    "\n",
    "En este notebook se analiza el problema de decisión binaria bajo ruido laplaciano con una **regla de decisión MAP**.\n",
    "\n",
    "La variable observada es:\n",
    "\n",
    "\\[\n",
    "Y =\n",
    "\\begin{cases}\n",
    "a + Z, & \\text{si } H = 0 \\\\\n",
    "-a + Z, & \\text{si } H = 1\n",
    "\\end{cases}\n",
    "\\]\n",
    "\n",
    "Donde:\n",
    "- \\( Z \\sim \\text{Laplace}(0, 1) \\) con densidad \\( f_Z(z) = \\frac{1}{2} e^{-|z|} \\)\n",
    "- \\( a > 0 \\) es una constante (usaremos \\( a = 1 \\))\n",
    "- \\( H \\in \\{0, 1\\} \\) con \\( P(H=0)=0.7 \\), \\( P(H=1)=0.3 \\)\n",
    "- Costos: \\( \\lambda_0 = 1 \\), \\( \\lambda_1 = 3 \\)\n",
    "\n",
    "#### 🎯 Objetivos\n",
    "\n",
    "1. Determinar el nivel de decisión óptimo bajo la regla MAP.\n",
    "2. Simular mediante Monte Carlo la probabilidad de error usando este umbral.\n",
    "3. Comparar contra la regla de decisión ML (máxima verosimilitud).\n"
   ]
  },
  {
   "cell_type": "markdown",
   "id": "07815b2a",
   "metadata": {},
   "source": [
    "### 📐 Desarrollo: Umbral óptimo bajo regla MAP\n",
    "\n",
    "La decisión óptima bajo MAP con costos \\( \\lambda_0, \\lambda_1 \\) es:\n",
    "\n",
    "\\[\n",
    "\\text{Decidir } H=0 \\text{ si } \\lambda_0 P(H=0) f_{Y|H}(y|0) > \\lambda_1 P(H=1) f_{Y|H}(y|1)\n",
    "\\]\n",
    "\n",
    "Sabiendo que:\n",
    "\n",
    "\\[\n",
    "f_{Y|H}(y|0) = \\frac{1}{2} e^{-|y - a|}, \\quad f_{Y|H}(y|1) = \\frac{1}{2} e^{-|y + a|}\n",
    "\\]\n",
    "\n",
    "Sustituyendo en la desigualdad:\n",
    "\n",
    "\\[\n",
    "\\lambda_0 P(H=0) e^{-|y - a|} > \\lambda_1 P(H=1) e^{-|y + a|}\n",
    "\\]\n",
    "\n",
    "\\[\n",
    "\\Rightarrow |y + a| - |y - a| > \\log\\left(\\frac{\\lambda_1 P(H=1)}{\\lambda_0 P(H=0)}\\right)\n",
    "\\]\n",
    "\n",
    "Para \\( a = 1 \\), el umbral se encuentra resolviendo esa ecuación por partes, dado que el valor absoluto depende de \\( y \\).\n"
   ]
  },
  {
   "cell_type": "code",
   "execution_count": 4,
   "id": "444f8e15",
   "metadata": {},
   "outputs": [
    {
     "name": "stdout",
     "output_type": "stream",
     "text": [
      "Umbral de decisión MAP: y = 0.1257\n"
     ]
    }
   ],
   "source": [
    "import numpy as np\n",
    "\n",
    "a = 1\n",
    "lambda0 = 1\n",
    "lambda1 = 3\n",
    "P0 = 0.7\n",
    "P1 = 0.3\n",
    "\n",
    "# log-ratio de MAP\n",
    "threshold_log_ratio = np.log((lambda1 * P1) / (lambda0 * P0))\n",
    "\n",
    "# Región donde se aplica la desigualdad (y > a)\n",
    "# En esta región: |y+a| - |y-a| = 2a\n",
    "# En y < -a: -2a, en |y| < a: 2y\n",
    "y_map = None\n",
    "if threshold_log_ratio < -2 * a:\n",
    "    y_map = -a - (threshold_log_ratio + 2 * a)/2\n",
    "elif threshold_log_ratio > 2 * a:\n",
    "    y_map = a + (threshold_log_ratio - 2 * a)/2\n",
    "else:\n",
    "    y_map = threshold_log_ratio / 2\n",
    "\n",
    "print(f\"Umbral de decisión MAP: y = {y_map:.4f}\")\n"
   ]
  },
  {
   "cell_type": "code",
   "execution_count": 2,
   "id": "b4986c4b",
   "metadata": {},
   "outputs": [
    {
     "name": "stdout",
     "output_type": "stream",
     "text": [
      "Probabilidad de error usando MAP: Pe = 0.1737\n"
     ]
    }
   ],
   "source": [
    "import matplotlib.pyplot as plt\n",
    "\n",
    "nb_samples = 100000\n",
    "z = np.random.uniform(size=nb_samples)\n",
    "hypothesis = np.array([1 if z[i] >= (1 - P0) else 0 for i in range(len(z))])\n",
    "Z = np.random.laplace(loc=0.0, scale=1.0, size=nb_samples)\n",
    "Y = a * (1 - 2 * hypothesis) + Z\n",
    "\n",
    "# Decisión usando umbral MAP\n",
    "decisiones_map = np.where(Y > y_map, 0, 1)\n",
    "errores_map = decisiones_map != hypothesis\n",
    "P_e_map = np.mean(errores_map)\n",
    "print(f\"Probabilidad de error usando MAP: Pe = {P_e_map:.4f}\")\n"
   ]
  },
  {
   "cell_type": "code",
   "execution_count": 3,
   "id": "13bf3eac",
   "metadata": {},
   "outputs": [
    {
     "name": "stdout",
     "output_type": "stream",
     "text": [
      "Probabilidad de error usando ML: Pe = 0.1823\n"
     ]
    },
    {
     "data": {
      "image/png": "[encoded data removed]",
      "text/plain": [
       "<Figure size 640x480 with 1 Axes>"
      ]
     },
     "metadata": {},
     "output_type": "display_data"
    }
   ],
   "source": [
    "# Nivel de decisión ML = 0 (cuando f_Y|H(y|0) = f_Y|H(y|1))\n",
    "decisiones_ml = np.where(Y > 0, 0, 1)\n",
    "errores_ml = decisiones_ml != hypothesis\n",
    "P_e_ml = np.mean(errores_ml)\n",
    "print(f\"Probabilidad de error usando ML: Pe = {P_e_ml:.4f}\")\n",
    "\n",
    "# Comparación gráfica\n",
    "plt.hist(Y[hypothesis==0], bins=100, alpha=0.5, label=\"H=0\", density=True)\n",
    "plt.hist(Y[hypothesis==1], bins=100, alpha=0.5, label=\"H=1\", density=True)\n",
    "plt.axvline(y_map, color='red', linestyle='--', label=\"Umbral MAP\")\n",
    "plt.axvline(0, color='green', linestyle='--', label=\"Umbral ML\")\n",
    "plt.title(\"Distribuciones condicionales de Y\")\n",
    "plt.xlabel(\"y\")\n",
    "plt.ylabel(\"Densidad\")\n",
    "plt.legend()\n",
    "plt.grid(True)\n",
    "plt.show()\n"
   ]
  },
  {
   "cell_type": "markdown",
   "id": "39098c9a",
   "metadata": {},
   "source": [
    "### 📌 Conclusiones\n",
    "\n",
    "- El umbral MAP tiene en cuenta tanto las probabilidades de las hipótesis como los costos asociados a los errores.\n",
    "- Cuando se comparan MAP y ML, el primero puede lograr una menor probabilidad de error si los valores están bien ajustados.\n",
    "- En este caso, la probabilidad de error con MAP fue diferente a la de ML, reflejando cómo la decisión óptima depende del conocimiento **a priori**.\n"
   ]
  }
 ],
 "metadata": {
  "kernelspec": {
   "display_name": "Python 3",
   "language": "python",
   "name": "python3"
  },
  "language_info": {
   "codemirror_mode": {
    "name": "ipython",
    "version": 3
   },
   "file_extension": ".py",
   "mimetype": "text/x-python",
   "name": "python",
   "nbconvert_exporter": "python",
   "pygments_lexer": "ipython3",
   "version": "3.12.2"
  }
 },
 "nbformat": 4,
 "nbformat_minor": 5
}
