{
 "cells": [
  {
   "cell_type": "markdown",
   "id": "56c6855e",
   "metadata": {},
   "source": [
    "## Canal Simétrico Binario (BSC) y Decisión de Máxima Verosimilitud (ML)\n",
    "\n",
    "El modelo de generación de ruido más común en las comunicaciones digitales que resulta en una observación de valores discretos es el **canal simétrico binario** (Binary Symmetric Channel o BSC). Este canal se aplica cuando el símbolo de datos de entrada es binario y las probabilidades condicionales están dadas por:\n",
    "\n",
    "$$\n",
    "P_{Y|A}(0|0) = 1 - p, \\quad P_{Y|A}(1|0) = p\n",
    "$$\n",
    "$$\n",
    "P_{Y|A}(0|1) = p, \\quad P_{Y|A}(1|1) = 1 - p\n",
    "$$\n",
    "\n",
    "Donde:\n",
    "- \\( A \\in \\{ 0,1 \\} \\) es el símbolo transmitido.\n",
    "- \\( Y \\in \\{ 0,1 \\} \\) es la observación ruidosa.\n",
    "- \\( p \\) es la probabilidad de error (probabilidad de cruce del BSC).\n",
    "\n",
    "### Regla de Decisión ML\n",
    "\n",
    "La regla de decisión de Máxima Verosimilitud (ML) elige el valor de \\( A \\) que maximiza \\( P_{Y|A}(Y|A)P_A(A) \\). Es decir:\n",
    "\n",
    "$$\n",
    "A_{ML} = \\arg\\max_{a} P_{Y|A}(y|a) P_A(a)\n",
    "$$\n",
    "\n",
    "Para dos casos particulares:\n",
    "\n",
    "#### Caso 1: \\( q = 0.6 \\), \\( p = 0.3 \\)\n",
    "\n",
    "Las probabilidades a posteriori son:\n",
    "$$\n",
    "P_{A|Y}(0|0) \\propto P_{Y|A}(0|0) P_A(0) = (1 - 0.3)(0.6) = 0.42\n",
    "$$\n",
    "$$\n",
    "P_{A|Y}(1|0) \\propto P_{Y|A}(0|1) P_A(1) = (0.3)(0.4) = 0.12\n",
    "$$\n",
    "Dado que \\( 0.42 > 0.12 \\), se elige \\( A = 0 \\) cuando \\( Y = 0 \\).\n",
    "\n",
    "De manera similar, cuando \\( Y = 1 \\):\n",
    "$$\n",
    "P_{A|Y}(0|1) = (0.3)(0.6) = 0.18, \\quad P_{A|Y}(1|1) = (0.7)(0.4) = 0.28\n",
    "$$\n",
    "Dado que \\( 0.28 > 0.18 \\), se elige \\( A = 1 \\) cuando \\( Y = 1 \\).\n",
    "\n",
    "**Regla de Decisión:**\n",
    "- Si \\( Y = 0 \\), decidir \\( A = 0 \\)\n",
    "- Si \\( Y = 1 \\), decidir \\( A = 1 \\)\n",
    "\n",
    "#### Caso 2: \\( q = 0.5 \\), \\( p = 0.3 \\)\n",
    "\n",
    "Si \\( q = 0.5 \\), las probabilidades son:\n",
    "$$\n",
    "P_{A|Y}(0|0) \\propto (1 - 0.3)(0.5) = 0.35, \\quad P_{A|Y}(1|0) \\propto (0.3)(0.5) = 0.15\n",
    "$$\n",
    "$$\n",
    "P_{A|Y}(0|1) \\propto (0.3)(0.5) = 0.15, \\quad P_{A|Y}(1|1) \\propto (0.7)(0.5) = 0.35\n",
    "$$\n",
    "\n",
    "Aquí también la regla de decisión es:\n",
    "- Si \\( Y = 0 \\), decidir \\( A = 0 \\)\n",
    "- Si \\( Y = 1 \\), decidir \\( A = 1 \\)\n",
    "\n",
    "### Probabilidad de Error\n",
    "\n",
    "La **probabilidad de error** en un canal BSC se define como la probabilidad de que la decisión basada en \\( Y \\) no coincida con el valor real de \\( A \\):\n",
    "\n",
    "$$\n",
    "P_e = P(A=0) P(Y=1 | A=0) + P(A=1) P(Y=0 | A=1)\n",
    "$$\n",
    "\n",
    "Usando las probabilidades del BSC:\n",
    "\n",
    "$$\n",
    "P_e = q p + (1 - q) p\n",
    "$$\n",
    "\n",
    "$$\n",
    "P_e = p (q + (1 - q)) = p\n",
    "$$\n",
    "\n",
    "Por lo tanto, la **probabilidad de error en el BSC es simplemente \\( p \\)**, independientemente del valor de \\( q \\).\n"
   ]
  },
  {
   "cell_type": "markdown",
   "id": "23b127fe",
   "metadata": {},
   "source": [
    "## Simulación Monte Carlo\n",
    "\n",
    "Para visualizar el comportamiento del BSC, realizamos una simulación con  y , un caso donde el canal casi siempre invierte el bit original."
   ]
  },
  {
   "cell_type": "code",
   "execution_count": 2,
   "id": "566f007d",
   "metadata": {},
   "outputs": [
    {
     "name": "stdout",
     "output_type": "stream",
     "text": [
      "Probabilidad de error: 0.900\n"
     ]
    },
    {
     "data": {
      "image/png": "[encoded data removed]",
      "text/plain": [
       "<Figure size 432x288 with 1 Axes>"
      ]
     },
     "metadata": {
      "needs_background": "light"
     },
     "output_type": "display_data"
    }
   ],
   "source": [
    "import numpy as np\n",
    "import matplotlib.pyplot as plt\n",
    "\n",
    "# Parámetros\n",
    "q = 0.5  # Probabilidad a priori de A = 0\n",
    "p = 0.9  # Probabilidad de error\n",
    "N = 10000  # Número de simulaciones\n",
    "\n",
    "# Generación de símbolos A\n",
    "A = np.random.choice([0, 1], size=N, p=[q, 1 - q])\n",
    "\n",
    "# Generación de observaciones Y con error\n",
    "flip = np.random.choice([0, 1], size=N, p=[1 - p, p])\n",
    "Y = np.bitwise_xor(A, flip)\n",
    "\n",
    "# Decisión ML\n",
    "A_hat = Y  # Regla ML estándar para p bajo\n",
    "\n",
    "# Cálculo del error\n",
    "error_rate = np.mean(A_hat != A)\n",
    "print(f\"Probabilidad de error: {error_rate:.3f}\")\n",
    "\n",
    "# Visualización\n",
    "plt.figure(figsize=(6, 4))\n",
    "plt.hist(A, bins=2, alpha=0.5, label='Transmitido A')\n",
    "plt.hist(Y, bins=2, alpha=0.5, label='Recibido Y')\n",
    "plt.hist(A_hat, bins=2, alpha=0.5, label='Decisión ML')\n",
    "plt.xticks([0, 1])\n",
    "plt.xlabel(\"Valor\")\n",
    "plt.ylabel(\"Frecuencia\")\n",
    "plt.legend()\n",
    "plt.title(\"Distribución de valores en el canal BSC\")\n",
    "plt.show()"
   ]
  }
 ],
 "metadata": {
  "kernelspec": {
   "display_name": "Python 3 (ipykernel)",
   "language": "python",
   "name": "python3"
  },
  "language_info": {
   "codemirror_mode": {
    "name": "ipython",
    "version": 3
   },
   "file_extension": ".py",
   "mimetype": "text/x-python",
   "name": "python",
   "nbconvert_exporter": "python",
   "pygments_lexer": "ipython3",
   "version": "3.9.7"
  }
 },
 "nbformat": 4,
 "nbformat_minor": 5
}
